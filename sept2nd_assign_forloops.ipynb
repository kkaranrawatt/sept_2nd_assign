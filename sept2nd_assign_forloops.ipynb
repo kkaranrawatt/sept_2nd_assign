{
 "cells": [
  {
   "cell_type": "code",
   "execution_count": 1,
   "id": "9323a038",
   "metadata": {},
   "outputs": [
    {
     "name": "stdout",
     "output_type": "stream",
     "text": [
      "1 2 3 4 5 6 7 8 9 10 "
     ]
    }
   ],
   "source": [
    "num=10\n",
    "for i in range(1,11):\n",
    "    print(i, end=' ')"
   ]
  },
  {
   "cell_type": "code",
   "execution_count": 2,
   "id": "1f86634b",
   "metadata": {},
   "outputs": [
    {
     "name": "stdout",
     "output_type": "stream",
     "text": [
      "Sum of all the list: 15\n"
     ]
    }
   ],
   "source": [
    "total=0\n",
    "l=[1,2,3,4,5]\n",
    "for i in range(0,len(l)):\n",
    "    total=total+l[i]\n",
    "print('Sum of all the list:', total)"
   ]
  },
  {
   "cell_type": "code",
   "execution_count": 3,
   "id": "a2ba091a",
   "metadata": {},
   "outputs": [],
   "source": [
    "def reverse(s):\n",
    "    str=''\n",
    "    for i in s:\n",
    "        str=i+str\n",
    "    return str\n",
    "    str='Karan'\n",
    "    print('The original string is:', str)"
   ]
  },
  {
   "cell_type": "code",
   "execution_count": 4,
   "id": "2d5af6e2",
   "metadata": {},
   "outputs": [
    {
     "data": {
      "text/plain": [
       "'tavaJ'"
      ]
     },
     "execution_count": 4,
     "metadata": {},
     "output_type": "execute_result"
    }
   ],
   "source": [
    "reverse('Javat')"
   ]
  },
  {
   "cell_type": "code",
   "execution_count": 5,
   "id": "2671c41f",
   "metadata": {},
   "outputs": [
    {
     "name": "stdout",
     "output_type": "stream",
     "text": [
      "Enter a number5\n"
     ]
    },
    {
     "ename": "NameError",
     "evalue": "name 'n' is not defined",
     "output_type": "error",
     "traceback": [
      "\u001b[1;31m---------------------------------------------------------------------------\u001b[0m",
      "\u001b[1;31mNameError\u001b[0m                                 Traceback (most recent call last)",
      "Cell \u001b[1;32mIn[5], line 3\u001b[0m\n\u001b[0;32m      1\u001b[0m num\u001b[38;5;241m=\u001b[39m\u001b[38;5;28mint\u001b[39m(\u001b[38;5;28minput\u001b[39m(\u001b[38;5;124m'\u001b[39m\u001b[38;5;124mEnter a number\u001b[39m\u001b[38;5;124m'\u001b[39m))\n\u001b[0;32m      2\u001b[0m fac\u001b[38;5;241m=\u001b[39m\u001b[38;5;241m1\u001b[39m\n\u001b[1;32m----> 3\u001b[0m \u001b[38;5;28;01mif\u001b[39;00m n\u001b[38;5;241m>\u001b[39m\u001b[38;5;241m=\u001b[39m\u001b[38;5;241m1\u001b[39m:\n\u001b[0;32m      4\u001b[0m     \u001b[38;5;28;01mfor\u001b[39;00m i \u001b[38;5;129;01min\u001b[39;00m \u001b[38;5;28mrange\u001b[39m(\u001b[38;5;241m1\u001b[39m,num\u001b[38;5;241m+\u001b[39m\u001b[38;5;241m1\u001b[39m):\n\u001b[0;32m      5\u001b[0m         fac\u001b[38;5;241m=\u001b[39mfac\u001b[38;5;241m*\u001b[39mi\n",
      "\u001b[1;31mNameError\u001b[0m: name 'n' is not defined"
     ]
    }
   ],
   "source": [
    "num=int(input('Enter a number'))\n",
    "fac=1\n",
    "if n>=1:\n",
    "    for i in range(1,num+1):\n",
    "        fac=fac*i\n",
    "        print('Factorial of',num, 'is', fac)"
   ]
  },
  {
   "cell_type": "code",
   "execution_count": 6,
   "id": "89e03cb7",
   "metadata": {},
   "outputs": [
    {
     "name": "stdout",
     "output_type": "stream",
     "text": [
      "Enter a num4\n"
     ]
    },
    {
     "ename": "TypeError",
     "evalue": "'range' object is not callable",
     "output_type": "error",
     "traceback": [
      "\u001b[1;31m---------------------------------------------------------------------------\u001b[0m",
      "\u001b[1;31mTypeError\u001b[0m                                 Traceback (most recent call last)",
      "Cell \u001b[1;32mIn[6], line 3\u001b[0m\n\u001b[0;32m      1\u001b[0m n\u001b[38;5;241m=\u001b[39m\u001b[38;5;28mint\u001b[39m(\u001b[38;5;28minput\u001b[39m(\u001b[38;5;124m'\u001b[39m\u001b[38;5;124mEnter a num\u001b[39m\u001b[38;5;124m'\u001b[39m))\n\u001b[0;32m      2\u001b[0m myrange\u001b[38;5;241m=\u001b[39m\u001b[38;5;28mrange\u001b[39m(\u001b[38;5;241m1\u001b[39m,\u001b[38;5;241m6\u001b[39m)\n\u001b[1;32m----> 3\u001b[0m \u001b[38;5;28;01mfor\u001b[39;00m x \u001b[38;5;129;01min\u001b[39;00m myrange():\n\u001b[0;32m      4\u001b[0m     result\u001b[38;5;241m=\u001b[39mn\u001b[38;5;241m*\u001b[39mx\n\u001b[0;32m      5\u001b[0m     \u001b[38;5;28mprint\u001b[39m(n,\u001b[38;5;124m'\u001b[39m\u001b[38;5;124m*\u001b[39m\u001b[38;5;124m'\u001b[39m,\u001b[38;5;124m'\u001b[39m\u001b[38;5;124mX\u001b[39m\u001b[38;5;124m'\u001b[39m,\u001b[38;5;124m'\u001b[39m\u001b[38;5;124m=\u001b[39m\u001b[38;5;124m'\u001b[39m,result)\n",
      "\u001b[1;31mTypeError\u001b[0m: 'range' object is not callable"
     ]
    }
   ],
   "source": [
    "n=int(input('Enter a num'))\n",
    "myrange=range(1,6)\n",
    "for x in myrange():\n",
    "    result=n*x\n",
    "    print(n,'*','X','=',result)"
   ]
  },
  {
   "cell_type": "code",
   "execution_count": 7,
   "id": "d79849f7",
   "metadata": {},
   "outputs": [
    {
     "name": "stdout",
     "output_type": "stream",
     "text": [
      "Enter a num: 5\n",
      "The mulitplication of number:  5\n",
      "5 X 1 = 5\n",
      "5 X 2 = 10\n",
      "5 X 3 = 15\n",
      "5 X 4 = 20\n",
      "5 X 5 = 25\n"
     ]
    }
   ],
   "source": [
    "n=int(input('Enter a num: '))\n",
    "print('The mulitplication of number: ', n)\n",
    "for count in range(1,6):\n",
    "    print(n,'X', count, '=', n*count )"
   ]
  },
  {
   "cell_type": "code",
   "execution_count": 8,
   "id": "4346af50",
   "metadata": {},
   "outputs": [],
   "source": [
    "def even():\n",
    "    for i in range(12):\n",
    "        if i%2==0:\n",
    "            print(i,end=' ')"
   ]
  },
  {
   "cell_type": "code",
   "execution_count": 9,
   "id": "e7e975d5",
   "metadata": {},
   "outputs": [
    {
     "name": "stdout",
     "output_type": "stream",
     "text": [
      "0 2 4 6 8 10 "
     ]
    }
   ],
   "source": [
    "even()"
   ]
  },
  {
   "cell_type": "code",
   "execution_count": 10,
   "id": "51726644",
   "metadata": {},
   "outputs": [
    {
     "name": "stdout",
     "output_type": "stream",
     "text": [
      "Even num in list are:  0\n",
      "Odd num in list are:  1\n",
      "Even num in list are:  1\n",
      "Odd num in list are:  1\n",
      "Even num in list are:  1\n",
      "Odd num in list are:  2\n",
      "Even num in list are:  1\n",
      "Odd num in list are:  3\n",
      "Even num in list are:  2\n",
      "Odd num in list are:  3\n",
      "Even num in list are:  3\n",
      "Odd num in list are:  3\n",
      "Even num in list are:  4\n",
      "Odd num in list are:  3\n",
      "Even num in list are:  5\n",
      "Odd num in list are:  3\n",
      "Even num in list are:  5\n",
      "Odd num in list are:  4\n"
     ]
    }
   ],
   "source": [
    "l1=[1,2,5,3,6,8,10,16,13]\n",
    "even, odd=0,0\n",
    "for num in l1:\n",
    "    if num%2==0:\n",
    "        even+=1\n",
    "    else:\n",
    "        odd+=1\n",
    "    print('Even num in list are: ', even)\n",
    "    print('Odd num in list are: ', odd)"
   ]
  },
  {
   "cell_type": "code",
   "execution_count": 11,
   "id": "4c9577d0",
   "metadata": {},
   "outputs": [
    {
     "name": "stdout",
     "output_type": "stream",
     "text": [
      "0 1 4 9 16 25 "
     ]
    }
   ],
   "source": [
    "num=5\n",
    "for i in range(0,num+1):\n",
    "    print(i**2, end=' ')"
   ]
  },
  {
   "cell_type": "code",
   "execution_count": 12,
   "id": "d3b69512",
   "metadata": {},
   "outputs": [
    {
     "name": "stdout",
     "output_type": "stream",
     "text": [
      "1 2 3 4 5 "
     ]
    }
   ],
   "source": [
    "string='Karan'\n",
    "count=0\n",
    "for i in string:\n",
    "    count+=1\n",
    "    print(count,end=' ')"
   ]
  },
  {
   "cell_type": "code",
   "execution_count": 13,
   "id": "5fb457b2",
   "metadata": {},
   "outputs": [
    {
     "name": "stdout",
     "output_type": "stream",
     "text": [
      "average of the list=  4.14\n"
     ]
    }
   ],
   "source": [
    "list1=[1,2,3,4,5,6,8]\n",
    "def avrg(list1):\n",
    "    return sum(list1)/len(list1)\n",
    "avrg=avrg(list1)\n",
    "print('average of the list= ', round(avrg,2))"
   ]
  },
  {
   "cell_type": "code",
   "execution_count": 14,
   "id": "899d790b",
   "metadata": {
    "scrolled": true
   },
   "outputs": [
    {
     "name": "stdout",
     "output_type": "stream",
     "text": [
      "0\n",
      "1\n",
      "1\n",
      "2\n",
      "3\n",
      "5\n",
      "8\n"
     ]
    }
   ],
   "source": [
    "frt=0\n",
    "snd=1\n",
    "print(frt)\n",
    "print(snd)\n",
    "for x in range(0,5):\n",
    "    trd=frt+snd\n",
    "    print(trd)\n",
    "    frt,snd=snd,trd"
   ]
  },
  {
   "cell_type": "code",
   "execution_count": 15,
   "id": "339d8899",
   "metadata": {},
   "outputs": [
    {
     "name": "stdout",
     "output_type": "stream",
     "text": [
      "[] [] [] [1] [1] [1, 2] [1, 2, 3] [1, 2, 3] "
     ]
    }
   ],
   "source": [
    "lst=[1,2,3,1,4,2,3,6]\n",
    "unqlst=[]\n",
    "dplst=[]\n",
    "for i in lst:\n",
    "    if i not in unqlst:\n",
    "        unqlst.append(i)\n",
    "    elif i not in dplst:\n",
    "        dplst.append(i)\n",
    "    print(dplst, end=' ')"
   ]
  },
  {
   "cell_type": "code",
   "execution_count": 16,
   "id": "a9aae143",
   "metadata": {},
   "outputs": [
    {
     "name": "stdout",
     "output_type": "stream",
     "text": [
      "Enter the lower bound2\n",
      "Enter the upper bound5\n",
      "Prime number between 2 and 5 are: \n",
      "2 3 "
     ]
    }
   ],
   "source": [
    "start=int(input('Enter the lower bound'))\n",
    "stop=int(input('Enter the upper bound'))\n",
    "print('Prime number between', start, 'and', stop, 'are: ')\n",
    "for val in range(start,stop):\n",
    "    if val>1:\n",
    "        for i in range(2,val):\n",
    "            if(val%i)==0:\n",
    "                break\n",
    "        else:\n",
    "            print(val, end=' ')"
   ]
  },
  {
   "cell_type": "code",
   "execution_count": 17,
   "id": "3cda76d2",
   "metadata": {},
   "outputs": [
    {
     "name": "stdout",
     "output_type": "stream",
     "text": [
      "Enter the string: karan\n",
      "Total vowels are: 2\n"
     ]
    }
   ],
   "source": [
    "string=input('Enter the string: ')\n",
    "count=0\n",
    "string=string.lower()\n",
    "for i in string:\n",
    "    if i=='a' or i=='e' or i=='i' or i=='o' or i=='u':\n",
    "        count+=1\n",
    "if count==0:\n",
    "    print('No vowels found')\n",
    "else:\n",
    "    print('Total vowels are: '+ str(count))"
   ]
  },
  {
   "cell_type": "code",
   "execution_count": 18,
   "id": "47963dfd",
   "metadata": {},
   "outputs": [],
   "source": [
    "def prod(lis):\n",
    "    maxi=0\n",
    "    for x in lis:\n",
    "        p=1\n",
    "        for i in x:\n",
    "            p*=i\n",
    "            maxi=max(p,maxi)\n",
    "    return maxi"
   ]
  },
  {
   "cell_type": "code",
   "execution_count": 19,
   "id": "33cfd94e",
   "metadata": {},
   "outputs": [
    {
     "name": "stdout",
     "output_type": "stream",
     "text": [
      "20\n"
     ]
    }
   ],
   "source": [
    "l=[[1,2,3],[4,5],[0,1,6]]\n",
    "print(prod(l))"
   ]
  },
  {
   "cell_type": "code",
   "execution_count": 20,
   "id": "848ee6a3",
   "metadata": {},
   "outputs": [
    {
     "name": "stdout",
     "output_type": "stream",
     "text": [
      "Original list:\n",
      "[1, 2, 1, 2, 1, 4, 5, 6, 7, 1]\n",
      "list after removing elements\n",
      "[2, 2, 4, 5, 6, 7]\n"
     ]
    }
   ],
   "source": [
    "lst=[1,2,1,2,1,4,5,6,7,1]\n",
    "n=1\n",
    "print('Original list:')\n",
    "print(lst)\n",
    "for i in lst:\n",
    "    if i==n:\n",
    "        lst.remove(i)\n",
    "print('list after removing elements')\n",
    "print(lst)"
   ]
  },
  {
   "cell_type": "code",
   "execution_count": 21,
   "id": "3604e0ea",
   "metadata": {},
   "outputs": [
    {
     "name": "stdout",
     "output_type": "stream",
     "text": [
      "1 2 3 4 5 6 7 8 9 10 \n",
      "2 4 6 8 10 12 14 16 18 20 \n",
      "3 6 9 12 15 18 21 24 27 30 \n",
      "4 8 12 16 20 24 28 32 36 40 \n",
      "5 10 15 20 25 30 35 40 45 50 \n"
     ]
    }
   ],
   "source": [
    "import sys\n",
    "for i in range(1,6):\n",
    "    for j in range(1,11):\n",
    "        k=i*j\n",
    "        print(k, end=' ')\n",
    "    print()"
   ]
  },
  {
   "cell_type": "code",
   "execution_count": 22,
   "id": "05f17673",
   "metadata": {},
   "outputs": [
    {
     "name": "stdout",
     "output_type": "stream",
     "text": [
      "47.00 Celsius is equivalent to: 116.60 Fahrenheit\n"
     ]
    }
   ],
   "source": [
    "celsius=47\n",
    "fahrenheit=(celsius*1.8)+32\n",
    "print('%.2f Celsius is equivalent to: %.2f Fahrenheit'\n",
    "      % (celsius, fahrenheit))"
   ]
  },
  {
   "cell_type": "code",
   "execution_count": 23,
   "id": "b6d0c554",
   "metadata": {},
   "outputs": [
    {
     "name": "stdout",
     "output_type": "stream",
     "text": [
      "{10, 20, 30}\n",
      "There are no common elements\n"
     ]
    }
   ],
   "source": [
    "def common_element(a, b):\n",
    "    list_one = set(a)\n",
    "    list_two = set(b)\n",
    "    if (list_one & list_two):\n",
    "        print(list_one & list_two)\n",
    "    else:\n",
    "        print(\"There are no common elements\") \n",
    "a = [5, 10, 15, 20, 25, 30]\n",
    "b = [10, 20, 30, 40, 50, 60]\n",
    "common_element(a, b)\n",
    "a = [1, 2, 3, 4, 5]\n",
    "b = [6, 7, 8, 9, 10]\n",
    "common_element(a, b)\n"
   ]
  },
  {
   "cell_type": "code",
   "execution_count": 24,
   "id": "f1bcb901",
   "metadata": {},
   "outputs": [
    {
     "name": "stdout",
     "output_type": "stream",
     "text": [
      "Enter the row number=\n",
      "5\n",
      "* \n",
      "* * \n",
      "* * * \n",
      "* * * * \n",
      "* * * * * \n"
     ]
    }
   ],
   "source": [
    "x=int(input('Enter the row number=\\n'))\n",
    "for i in range(x):\n",
    "    for j in range(i+1):\n",
    "        print('*', end=' ')\n",
    "    print(\"\")"
   ]
  },
  {
   "cell_type": "code",
   "execution_count": 25,
   "id": "17bad4e3",
   "metadata": {},
   "outputs": [
    {
     "name": "stdout",
     "output_type": "stream",
     "text": [
      "The GCD of 48 and 60 is:  12\n"
     ]
    }
   ],
   "source": [
    "import math\n",
    "print('The GCD of 48 and 60 is: ', end=' ')\n",
    "print(math.gcd(48,60))"
   ]
  },
  {
   "cell_type": "code",
   "execution_count": 26,
   "id": "7ea9146f",
   "metadata": {},
   "outputs": [
    {
     "name": "stdout",
     "output_type": "stream",
     "text": [
      "2\n",
      "3\n",
      "5\n",
      "7\n",
      "11\n",
      "13\n",
      "17\n",
      "19\n",
      "None\n"
     ]
    }
   ],
   "source": [
    "def sieve(n):\n",
    "    prime_lst=[]\n",
    "    for i in range(2,n+1):\n",
    "        if i not in prime_lst:\n",
    "            print(i)\n",
    "            for j in range(i*i, n+1,i):\n",
    "                prime_lst.append(j)\n",
    "print(sieve(20))"
   ]
  },
  {
   "cell_type": "code",
   "execution_count": 34,
   "id": "2311594c",
   "metadata": {},
   "outputs": [
    {
     "name": "stdout",
     "output_type": "stream",
     "text": [
      "Enter the value of n: 5\n",
      "[(3, 4, 5)]\n"
     ]
    }
   ],
   "source": [
    "n=int(input('Enter the value of n: '))\n",
    "a=0\n",
    "b=0\n",
    "c=0\n",
    "m=2\n",
    "triples=[]\n",
    "while c<n:\n",
    "    for i in range(1,m,1):\n",
    "        a=m*m-i*i\n",
    "        b=2*m*i\n",
    "        c=m*m+i*i\n",
    "        if c>n:\n",
    "            break\n",
    "            \n",
    "        triples.append((a,b,c))\n",
    "    m+=1\n",
    "print(triples)"
   ]
  },
  {
   "cell_type": "markdown",
   "id": "788631f2",
   "metadata": {},
   "source": []
  },
  {
   "cell_type": "code",
   "execution_count": 35,
   "id": "d903e597",
   "metadata": {},
   "outputs": [
    {
     "name": "stdout",
     "output_type": "stream",
     "text": [
      "[(1, 3), (1, 4), (1, 5), (1, 6), (2, 3), (2, 4), (2, 5), (2, 6), (3, 3), (3, 4), (3, 5), (3, 6)]\n"
     ]
    }
   ],
   "source": [
    "num1=[1,2,3]\n",
    "num2=[3,4,5,6]\n",
    "nums=[(x,y) for x in num1 for y in num2]\n",
    "print(nums)"
   ]
  },
  {
   "cell_type": "code",
   "execution_count": 36,
   "id": "9f6213dc",
   "metadata": {},
   "outputs": [
    {
     "name": "stdout",
     "output_type": "stream",
     "text": [
      "The mean of list is  3.5\n"
     ]
    }
   ],
   "source": [
    "num=[1,2,3,4,5,6]\n",
    "no=len(num)\n",
    "summ=sum(num)\n",
    "mean=summ/no\n",
    "print('The mean of list is ', str(mean))"
   ]
  },
  {
   "cell_type": "code",
   "execution_count": 37,
   "id": "1dda0e04",
   "metadata": {},
   "outputs": [
    {
     "name": "stdout",
     "output_type": "stream",
     "text": [
      "      1 \n",
      "     1 1 \n",
      "    1 2 1 \n",
      "   1 3 3 1 \n",
      "  1 4 6 4 1 \n"
     ]
    }
   ],
   "source": [
    "from math import factorial\n",
    "n=5\n",
    "for i in range(n):\n",
    "    for j in range(n-i+1):\n",
    "        print(end=' ')\n",
    "    for j in range(i+1):\n",
    "        print(factorial(i)//(factorial(j)*factorial(i-j)), end=\" \")\n",
    "    print()"
   ]
  },
  {
   "cell_type": "code",
   "execution_count": 38,
   "id": "f60e2c5e",
   "metadata": {},
   "outputs": [
    {
     "name": "stdout",
     "output_type": "stream",
     "text": [
      "27\n",
      "54\n"
     ]
    }
   ],
   "source": [
    "def sum_fact(n):\n",
    "    fact=1\n",
    "    for i in range(2,n+1):\n",
    "        fact*=i\n",
    "    sum_digit=0\n",
    "    for digit in str(fact):\n",
    "        sum_digit+=int(digit)\n",
    "    return sum_digit\n",
    "print(sum_fact(10))\n",
    "print(sum_fact(20))"
   ]
  },
  {
   "cell_type": "code",
   "execution_count": 44,
   "id": "27432e90",
   "metadata": {},
   "outputs": [
    {
     "name": "stdout",
     "output_type": "stream",
     "text": [
      "PWSKILLS\n",
      "uttrakhandi\n"
     ]
    }
   ],
   "source": [
    "def max_str(lst):\n",
    "    return max(lst, key=len)\n",
    "print(max_str(['Karan','PWSKILLS']))\n",
    "print(max_str(['Karan','garhwali', 'uttrakhandi']))"
   ]
  },
  {
   "cell_type": "code",
   "execution_count": 45,
   "id": "56f702ae",
   "metadata": {},
   "outputs": [
    {
     "name": "stdout",
     "output_type": "stream",
     "text": [
      "500500\n"
     ]
    }
   ],
   "source": [
    "sum = 0 \n",
    "for i in range(1,1001):\n",
    "    sum += i\n",
    "    news\n",
    "print(sum) \n"
   ]
  },
  {
   "cell_type": "code",
   "execution_count": null,
   "id": "8571bee8",
   "metadata": {},
   "outputs": [],
   "source": []
  }
 ],
 "metadata": {
  "kernelspec": {
   "display_name": "Python 3 (ipykernel)",
   "language": "python",
   "name": "python3"
  },
  "language_info": {
   "codemirror_mode": {
    "name": "ipython",
    "version": 3
   },
   "file_extension": ".py",
   "mimetype": "text/x-python",
   "name": "python",
   "nbconvert_exporter": "python",
   "pygments_lexer": "ipython3",
   "version": "3.11.4"
  }
 },
 "nbformat": 4,
 "nbformat_minor": 5
}
